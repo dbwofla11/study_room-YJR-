{
  "nbformat": 4,
  "nbformat_minor": 0,
  "metadata": {
    "colab": {
      "name": "프로그래밍Lab_6과제.ipynb",
      "provenance": [],
      "collapsed_sections": [],
      "authorship_tag": "ABX9TyMZp3iHjzlnf0WSg3rSvzXY",
      "include_colab_link": true
    },
    "kernelspec": {
      "name": "python3",
      "display_name": "Python 3"
    },
    "language_info": {
      "name": "python"
    }
  },
  "cells": [
    {
      "cell_type": "markdown",
      "metadata": {
        "id": "view-in-github",
        "colab_type": "text"
      },
      "source": [
        "<a href=\"https://colab.research.google.com/github/dbwofla11/study_room-YJR-/blob/main/%ED%94%84%EB%A1%9C%EA%B7%B8%EB%9E%98%EB%B0%8DLab_6%EA%B3%BC%EC%A0%9C.ipynb\" target=\"_parent\"><img src=\"https://colab.research.google.com/assets/colab-badge.svg\" alt=\"Open In Colab\"/></a>"
      ]
    },
    {
      "cell_type": "code",
      "execution_count": null,
      "metadata": {
        "id": "UoQ9ZxMUDNFW"
      },
      "outputs": [],
      "source": [
        "#Lab 6 - 1:\n",
        "\n",
        "name = input(\"파일 이름 : \")\n",
        "print(\"파일 전체를 출력합니다.\")\n",
        "\n",
        "with open(name, \"r\") as file:\n",
        "  table = dict()\n",
        "  for line in file.readlines():\n",
        "    words = line.split()\n",
        "    for word in words:\n",
        "      if word not in table:   #  문자 : 키에 1 추가하는 거 \n",
        "        table[word] = 1 # 없었는데 생기면 1로 초기화 \n",
        "      else:\n",
        "        table[word] += 1 # 있는데 생기면 1을 추가해 더해줌 \n",
        "  \n",
        "  print(\"단어의 빈도수를 출력합니다.\")\n",
        "  print(table)\n",
        "#애초에 실행은 메모장 파일이 필요함 "
      ]
    },
    {
      "cell_type": "code",
      "source": [
        "#Lab 6 - 1(2)\n",
        "def parse_file(path):\n",
        "  with open(path) as infile:\n",
        "    spaces = 0\n",
        "    tabs = 0\n",
        "    for line in infile.readlines():\n",
        "      spaces += line.count(\" \")\n",
        "      tabs += line.count(\"\\t\")\n",
        "    return spaces , tabs\n",
        "\n",
        "frame = input(\"파일이름 : \")\n",
        "spaces , tabs = parse_file(frame)\n",
        "print(\"스페이드 수 : %d  , 탭 수 %d  \" % (spaces , tabs))\n",
        "#위와 마찬가지임 "
      ],
      "metadata": {
        "id": "y65YPWFH8uVO"
      },
      "execution_count": null,
      "outputs": []
    },
    {
      "cell_type": "code",
      "source": [
        "#Lab 6 - 2\n",
        "dic = {}\n",
        "fname = input(\"\")   # 파일이름 : animal_eng.txt\n",
        "\n",
        "# 한글 txt 파일을 처리시 encoding=\"utf-8\" 옵션 추가 필요 # 이거는 질문 ?\n",
        "\n",
        "print(\"**파일 전체를 출력합니다.\")\n",
        "with open(fname, \"r\", encoding=\"utf-8\") as file :\n",
        "  print(file.read()) #read는 다 읽는거 \n",
        "\n",
        "with open(fname, \"r\", encoding=\"utf-8\") as file : # with는 한줄 클래스 \n",
        "  for line in file.readlines():\n",
        "    x = line.split(\",\")  # line 1, 2, 3 된다음 그라인의 요소를 딕션너리에 넘\n",
        "    dic[ x[0] ] = x[1].replace(\"\\n\" , \"\").replace(\" \", \"\") \n",
        "\n",
        "  print(\"**동물영어 사전 출력 \")\n",
        "  print(dic)\n",
        "\n",
        "while 1 : \n",
        "  print(\"-1 입력시 끝납니다\")\n",
        "  q = input(\"\\n동물이름 (한글):\")\n",
        "  key = q.lower()\n",
        "  if key in dic :\n",
        "    eng = dic.get(key)\n",
        "    print(\"%s 는 영어로 %s 입니다\" % (q , eng))\n",
        "  elif(q == \"-1\"):\n",
        "    break\n",
        "  else:\n",
        "    print(\"등록되지 않은 단어입니다\")\n",
        "\n",
        "\n"
      ],
      "metadata": {
        "id": "_mBJLNnP-MGz"
      },
      "execution_count": null,
      "outputs": []
    },
    {
      "cell_type": "code",
      "source": [
        "#Lab 6 - 3 \n",
        "김민수 =  { \"name\" : \"김민수\" , \"assignment\" : [80,50,30,40] , \"test\" : [75,75] , \"lab\" : [80,20,77,20]}\n",
        "이민아 =  { \"name\" : \"이민아\" , \"assignment\" : [70,60,40,10] , \"test\" : [90,55] , \"lab\" : [80,30,75,60]}\n",
        "배철수 =  { \"name\" : \"배철수\" , \"assignment\" : [85,30,90,30] , \"test\" : [77,35] , \"lab\" : [80,25,80,90]}\n",
        "\n",
        "def get_avg(marks): # 한 키에대한 평균 \n",
        "  total_sum = sum(marks)\n",
        "  total_sum = float(total_sum)\n",
        "  return total_sum / len(marks)\n",
        "\n",
        "def calculate_total_avg(students): # 한 딕션너리에 대한 평균 \n",
        "  assignment = get_avg(students[\"assignment\"])\n",
        "  test = get_avg(students[\"test\"])\n",
        "  lab = get_avg(students[\"lab\"])\n",
        "  return (0.1 * assignment + 0.7 * test + 0.2 * lab)\n",
        "\n",
        "def letter_grade(score):\n",
        "  if score >= 90 : return \"A\"\n",
        "  elif score >= 80 : return \"B\"\n",
        "  elif score >= 70 : return \"C\"\n",
        "  elif score >= 60 : return \"D\"\n",
        "  else: return \"F\"\n",
        "\n",
        "def class_average(student_list):\n",
        "  print(\"student_리스트를 출력합니다 \")\n",
        "  print(student_list)\n",
        "  print()\n",
        "  rl = []\n",
        "  for student in student_list:\n",
        "    stud_avg = calculate_total_avg(student)\n",
        "    rl.append(stud_avg)\n",
        "  return get_avg(rl)\n",
        "\n",
        "students = [김민수,배철수,이민아]\n",
        "\n",
        "for i in students:\n",
        "  print(i[\"name\"])\n",
        "  print(\"*\"*70)\n",
        "  print(\"%s의 총점 = %0.2f\" % (i[\"name\"] , calculate_total_avg(i) ))\n",
        "  print(\"%s의 학점은 %s 입니다.\" % (i[\"name\"] , letter_grade(calculate_total_avg(i)) ))\n",
        "  print()\n",
        "\n",
        "class_av = class_average(students)\n",
        "print(\"반 전체의 평균 점수 %0.2f\" % class_av)\n",
        "print(\"반 전체의 평균 학점 %s\" % letter_grade(class_av))\n"
      ],
      "metadata": {
        "colab": {
          "base_uri": "https://localhost:8080/"
        },
        "id": "IJoWq4iMEVfF",
        "outputId": "9656ba1f-2453-457b-de8a-df7db6834706"
      },
      "execution_count": null,
      "outputs": [
        {
          "output_type": "stream",
          "name": "stdout",
          "text": [
            "김민수\n",
            "**********************************************************************\n",
            "김민수의 총점 = 67.35\n",
            "김민수의 학점은 D 입니다.\n",
            "\n",
            "배철수\n",
            "**********************************************************************\n",
            "배철수의 총점 = 58.82\n",
            "배철수의 학점은 F 입니다.\n",
            "\n",
            "이민아\n",
            "**********************************************************************\n",
            "이민아의 총점 = 67.50\n",
            "이민아의 학점은 D 입니다.\n",
            "\n",
            "student_리스트를 출력합니다 \n",
            "[{'name': '김민수', 'assignment': [80, 50, 30, 40], 'test': [75, 75], 'lab': [80, 20, 77, 20]}, {'name': '배철수', 'assignment': [85, 30, 90, 30], 'test': [77, 35], 'lab': [80, 25, 80, 90]}, {'name': '이민아', 'assignment': [70, 60, 40, 10], 'test': [90, 55], 'lab': [80, 30, 75, 60]}]\n",
            "\n",
            "반 전체의 평균 점수 64.56\n",
            "반 전체의 평균 학점 D\n"
          ]
        }
      ]
    }
  ]
}